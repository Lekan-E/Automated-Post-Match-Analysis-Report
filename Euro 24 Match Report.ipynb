{
 "cells": [
  {
   "cell_type": "code",
   "execution_count": 1,
   "metadata": {},
   "outputs": [],
   "source": [
    "# Import libraries\n",
    "import pandas as pd\n",
    "from statsbombpy import sb\n",
    "import requests\n",
    "import http.client\n",
    "import json\n",
    "import ScraperFC as sfc"
   ]
  },
  {
   "cell_type": "markdown",
   "metadata": {},
   "source": [
    "Match Information"
   ]
  },
  {
   "cell_type": "code",
   "execution_count": 107,
   "metadata": {},
   "outputs": [
    {
     "name": "stderr",
     "output_type": "stream",
     "text": [
      "c:\\Users\\Razak\\AppData\\Local\\Programs\\Python\\Python312\\Lib\\site-packages\\statsbombpy\\api_client.py:21: NoAuthWarning: credentials were not supplied. open data access only\n",
      "  warnings.warn(\n"
     ]
    }
   ],
   "source": [
    "# Get all matches \n",
    "df_all_matches = sb.matches(competition_id=55, season_id=282)\n",
    "\n",
    "# Get England's matches\n",
    "df_england = df_all_matches[(df_all_matches['home_team'] == 'England') | (df_all_matches['away_team'] == 'England')]\n",
    "\n",
    "# Euros Final \n",
    "match_id = 3943043\n",
    "\n",
    "# Get match information\n",
    "df = df_england[df_england['match_id'] == match_id]\n",
    "\n",
    "drop_colns = ['kick_off','match_status','match_status_360','last_updated','last_updated_360','match_week',\n",
    "              'data_version','shot_fidelity_version','xy_fidelity_version']\n",
    "\n",
    "matchInfo = df.drop(drop_colns, axis=1).reset_index(drop=True)\n",
    "\n",
    "# Column to assign home away team\n",
    "def assign_home_away(row):\n",
    "    if row['team'] == matchInfo['home_team'][0]:\n",
    "        return 'home'\n",
    "    else: return 'away'\n",
    "\n",
    "# Export\n",
    "# matchInfo.to_csv(r'./Match Info.csv', index=False)\n"
   ]
  },
  {
   "cell_type": "code",
   "execution_count": 3,
   "metadata": {},
   "outputs": [],
   "source": [
    "homeTeam = matchInfo['home_team'][0]\n",
    "awayTeam = matchInfo['away_team'][0]\n",
    "homeManager = matchInfo['home_managers'][0]\n",
    "awayManager = matchInfo['away_managers'][0]"
   ]
  },
  {
   "cell_type": "markdown",
   "metadata": {},
   "source": [
    "Match Sheet"
   ]
  },
  {
   "cell_type": "code",
   "execution_count": 156,
   "metadata": {},
   "outputs": [
    {
     "name": "stderr",
     "output_type": "stream",
     "text": [
      "c:\\Users\\Razak\\AppData\\Local\\Programs\\Python\\Python312\\Lib\\site-packages\\statsbombpy\\api_client.py:21: NoAuthWarning: credentials were not supplied. open data access only\n",
      "  warnings.warn(\n",
      "c:\\Users\\Razak\\AppData\\Local\\Programs\\Python\\Python312\\Lib\\site-packages\\statsbombpy\\api_client.py:21: NoAuthWarning: credentials were not supplied. open data access only\n",
      "  warnings.warn(\n"
     ]
    }
   ],
   "source": [
    "# Concat England and Spain lineup into one\n",
    "players_list = []\n",
    "teams = [homeTeam, awayTeam]\n",
    "\n",
    "for i in range(len(teams)):\n",
    "    lineup = sb.lineups(match_id=match_id)[teams[i]]\n",
    "    fullLineup = lineup[['player_id','player_name','jersey_number','country','cards','positions']]\n",
    "    fullLineup['team'] = teams[i]\n",
    "    players_list.append(fullLineup)\n",
    "\n",
    "players_df = pd.concat(players_list, axis=0, ignore_index=True).reset_index(drop=True)\n",
    "\n",
    "players_df['home_away'] = players_df.apply(assign_home_away, axis=1)\n",
    "\n",
    "# Get extract positions into a different column\n",
    "def player_position(row):\n",
    "    if row['positions']:\n",
    "        return row['positions'][0]['position']\n",
    "    return None\n",
    "\n",
    "players_df['player_position'] = players_df.apply(player_position, axis=1)\n",
    "\n",
    "# Get substitution status\n",
    "def bench(row):\n",
    "    \n",
    "    if row['positions'] == []:\n",
    "        return 'Bench'\n",
    "    elif row['positions'][0]['from'] == '00:00':\n",
    "        return 'Starter'\n",
    "    else: return 'Substitute'\n",
    "\n",
    "players_df['bench_status'] = players_df.apply(bench, axis=1)\n",
    "\n",
    "# Add manager\n",
    "def manager(row):\n",
    "    if row['country'] == homeTeam:\n",
    "        return homeManager\n",
    "    else:\n",
    "        return awayManager\n",
    "    \n",
    "players_df['team_manager'] = players_df.apply(manager, axis=1)\n",
    "\n",
    "# Add cards\n",
    "def cards(row):\n",
    "    if row['cards']:\n",
    "        return row['cards'][0]['time']\n",
    "    return None\n",
    "\n",
    "players_df['cards'] = players_df.apply(cards, axis=1)\n",
    "\n",
    "# Filter\n",
    "drop_colns = ['positions']\n",
    "df_lineup = players_df.drop(drop_colns,axis=1).reset_index(drop=True)\n",
    "\n",
    "# Export\n",
    "#df_lineup.to_csv(r'./Match Lineups.csv', index=False)"
   ]
  },
  {
   "cell_type": "markdown",
   "metadata": {},
   "source": [
    "Positions"
   ]
  },
  {
   "cell_type": "code",
   "execution_count": 5,
   "metadata": {},
   "outputs": [
    {
     "name": "stderr",
     "output_type": "stream",
     "text": [
      "c:\\Users\\Razak\\AppData\\Local\\Programs\\Python\\Python312\\Lib\\site-packages\\statsbombpy\\api_client.py:21: NoAuthWarning: credentials were not supplied. open data access only\n",
      "  warnings.warn(\n"
     ]
    }
   ],
   "source": [
    "# Get match events\n",
    "matchEvents = sb.events(match_id=match_id)\n",
    "\n",
    "# Filter columns\n",
    "df_position = matchEvents[['id','match_id','player_id','location','player', 'position','team','minute']].sort_values(by=['minute'], \n",
    "                                                                                                  ascending=True).reset_index(drop=True)\n",
    "\n",
    "# Split columns\n",
    "df_position[['location_x', 'location_y']] = df_position['location'].apply(pd.Series)\n",
    "\n",
    "# Assign a goal status by different time\n",
    "timeFirstGoal = 46\n",
    "timeSecondGoal = 72\n",
    "timeThirdGoal = 85\n",
    "\n",
    "def goalstatus(row):\n",
    "    if row['minute'] <= timeFirstGoal:\n",
    "        return '1-46'\n",
    "    elif row['minute'] <= timeSecondGoal:\n",
    "        return '46-72'\n",
    "    elif row['minute'] <= timeThirdGoal:\n",
    "        return '72-85'\n",
    "    else:\n",
    "        return '85-94'\n",
    "    \n",
    "df_position['goal_status'] = df_position.apply(goalstatus, axis=1)\n",
    "\n",
    "df_position_team = df_position.groupby(['player']).agg({'location_x': ['mean'], 'location_y':['mean','count']}).reset_index()\n",
    "df_position_status = df_position.groupby(['player','team','goal_status']).agg({'location_x': ['mean'], 'location_y':['mean']}).reset_index()\n",
    "\n",
    "# Export\n",
    "# df_position_status.to_csv(r'./Players Position Per Goal.csv', index=False)\n",
    "# df_position_team.to_csv(r'./Players Position.csv', index=False)\n"
   ]
  },
  {
   "cell_type": "code",
   "execution_count": 6,
   "metadata": {},
   "outputs": [],
   "source": [
    "# Split columns\n",
    "matchEvents[['location_x', 'location_y']] = matchEvents['location'].apply(pd.Series)\n",
    "matchEvents[['pass_end_location_x', 'pass_end_location_y']] = matchEvents['pass_end_location'].apply(pd.Series)\n",
    "matchEvents['shot_end_location'] = matchEvents['shot_end_location'].astype(str)\n",
    "matchEvents[['shot_end_location_x', 'shot_end_location_y', 'shot_end_location_z']] = matchEvents['shot_end_location'].str.strip('[]').str.split(', ', expand=True)"
   ]
  },
  {
   "cell_type": "code",
   "execution_count": 7,
   "metadata": {},
   "outputs": [
    {
     "data": {
      "text/plain": [
       "3236    46\n",
       "3247    72\n",
       "3249    85\n",
       "Name: minute, dtype: int64"
      ]
     },
     "execution_count": 7,
     "metadata": {},
     "output_type": "execute_result"
    }
   ],
   "source": [
    "matchEvents[matchEvents['shot_outcome']=='Goal']['minute']"
   ]
  },
  {
   "cell_type": "markdown",
   "metadata": {},
   "source": [
    "xG Dynamics"
   ]
  },
  {
   "cell_type": "code",
   "execution_count": 8,
   "metadata": {},
   "outputs": [],
   "source": [
    "shotEvents = matchEvents[matchEvents['type'] == 'Shot']\n",
    "df_xg = shotEvents[['id','period','match_id','player_id','location','player', 'position','team','minute',\n",
    "             'shot_statsbomb_xg','shot_outcome']].reset_index(drop=True)\n",
    "\n",
    "# Export\n",
    "#df_xg.to_csv(r'./xG Dyanamics.csv', index=False)"
   ]
  },
  {
   "cell_type": "markdown",
   "metadata": {},
   "source": [
    "Match Momentum"
   ]
  },
  {
   "cell_type": "code",
   "execution_count": 10,
   "metadata": {},
   "outputs": [
    {
     "name": "stdout",
     "output_type": "stream",
     "text": [
      "11874023\n",
      "https://www.sofascore.com/football/match/england-spain/YTbsnUb\n"
     ]
    }
   ],
   "source": [
    "# Get the match id from the URL\n",
    "matchURL = 'https://www.sofascore.com/football/match/england-spain/YTbsnUb#id:11874023' # input('Insert Sofascore matchURL: ')\n",
    "sofamatchID = matchURL.split(':')[-1]\n",
    "mainURL = matchURL.split('#')[0]\n",
    "print(sofamatchID)\n",
    "print(mainURL)\n",
    "\n",
    "\n",
    "# Scrape data\n",
    "url = \"https://sofascore.p.rapidapi.com/matches/get-graph\"\n",
    "querystring = {\"matchId\":f\"{sofamatchID}\"}\n",
    "headers = {\n",
    "\t\"X-RapidAPI-Key\": \"02f78f4685mshc10883d2824f85fp15d8f7jsn4a10a9bc47ae\",\n",
    "\t\"X-RapidAPI-Host\": \"sofascore.p.rapidapi.com\"\n",
    "}\n",
    "\n",
    "try:\n",
    "    response = requests.get(url, headers=headers, params=querystring)\n",
    "    if response.status_code == 200:\n",
    "        # Resource has been modified, process response data\n",
    "        matchMomentum = response.json() \n",
    "    else:\n",
    "        # Handle other status codes\n",
    "        print(\"Unexpected status code:\", response.status_code)\n",
    "\n",
    "except requests.RequestException as e:\n",
    "    print(\"Error:\", e)\n",
    "\n",
    "match_momentum_df = pd.DataFrame(matchMomentum['graphPoints'])\n",
    "\n",
    "\n",
    "# Create a distinct column for each row entry \n",
    "\n",
    "# Function to assign values based on conditions\n",
    "def assign_home_team(row):\n",
    "    if row['value'] > 0:\n",
    "        return homeTeam\n",
    "    else:\n",
    "        return None\n",
    "\n",
    "def assign_away_team(row):\n",
    "    if row['value'] < 0:\n",
    "        return awayTeam\n",
    "    else:\n",
    "        return None\n",
    "\n",
    "# Apply the function to create the new column\n",
    "match_momentum_df['homeTeam'] = match_momentum_df.apply(assign_home_team, axis=1)\n",
    "match_momentum_df['awayTeam'] = match_momentum_df.apply(assign_away_team, axis=1)\n",
    "\n",
    "# Export\n",
    "#match_momentum_df.to_csv(r'./Match Momentum.csv', index=False)"
   ]
  },
  {
   "cell_type": "markdown",
   "metadata": {},
   "source": [
    "Team Stats"
   ]
  },
  {
   "cell_type": "code",
   "execution_count": 11,
   "metadata": {},
   "outputs": [
    {
     "name": "stdout",
     "output_type": "stream",
     "text": [
      "Running\n"
     ]
    }
   ],
   "source": [
    "sofascore = sfc.Sofascore()\n",
    "matchStats= sofascore.scrape_team_match_stats(matchURL)\n",
    "\n",
    "matchStats = matchStats[matchStats['period'] == 'ALL'].reset_index(drop=True)\n",
    "matchStats = matchStats[['name','homeValue', 'awayValue']]\n",
    "\n",
    "# Export\n",
    "#matchStats.to_csv(r'./Match Stats.csv', index=False)"
   ]
  },
  {
   "cell_type": "code",
   "execution_count": 12,
   "metadata": {},
   "outputs": [],
   "source": [
    "statstry = matchStats.transpose().reset_index()\n",
    "statstry.columns = statstry.iloc[0]\n",
    "statstry = statstry.drop(0)\n",
    "\n",
    "# Add a column to assign team name\n",
    "def assign_team(row):\n",
    "    if 'home' in row['name']:\n",
    "        return homeTeam\n",
    "    elif 'away' in row['name']:\n",
    "        return awayTeam\n",
    "    else: return None\n",
    "\n",
    "statstry['Team'] = statstry.apply(assign_team, axis=1)\n",
    "\n",
    "# ASSING GOAL\n",
    "def assign_score(row):\n",
    "    if 'home' in row['name']:\n",
    "        return matchInfo['home_score'][0]\n",
    "    else: return matchInfo['away_score'][0]\n",
    "\n",
    "statstry['Goal'] = statstry.apply(assign_score, axis=1)\n",
    "\n",
    "\n",
    "# Export\n",
    "#statstry.to_csv(r'./Match Stats New.csv', index=False)"
   ]
  },
  {
   "cell_type": "markdown",
   "metadata": {},
   "source": [
    "Player Stats"
   ]
  },
  {
   "cell_type": "code",
   "execution_count": 13,
   "metadata": {},
   "outputs": [],
   "source": [
    "def get_player_stats(home_away):\n",
    "\n",
    "    fbref = sfc.FBref()\n",
    "    fbref_match_url = 'https://fbref.com/en/matches/e307ecc0/Spain-England-July-14-2024-UEFA-Euro-2024'\n",
    "    a = fbref.scrape_match(fbref_match_url)\n",
    "\n",
    "    # Get all the needed stats we want\n",
    "    stats = ['Summary','Passing','Passing types','Defense','Possession','Misc','Keeper']\n",
    "    \n",
    "    summary = a[f'{home_away} Player Stats'][0][stats[0]]\n",
    "    passing = a[f'{home_away} Player Stats'][0][stats[1]]\n",
    "    passTypes = a[f'{home_away} Player Stats'][0][stats[2]]\n",
    "    defense = a[f'{home_away} Player Stats'][0][stats[3]]\n",
    "    possession = a[f'{home_away} Player Stats'][0][stats[4]]\n",
    "    misc = a[f'{home_away} Player Stats'][0][stats[5]]\n",
    "    keeper = a[f'{home_away} Player Stats'][0][stats[6]]\n",
    "\n",
    "    # summary.columns = summary.columns.droplevel(0)\n",
    "    # passing.columns = passing.columns.droplevel(0)\n",
    "    # passTypes.columns = passTypes.columns.droplevel(0)\n",
    "        \n",
    "    # Join the dataframe\n",
    "    totalTable = pd.concat([summary,passing,passTypes,defense,possession,misc], axis=1)\n",
    "    totalTable['Team'] = home_away\n",
    "    keeper['Team'] = home_away\n",
    "\n",
    "    return totalTable, keeper\n",
    "\n",
    "homePlayers = get_player_stats('Home')\n",
    "homePlayers_Stats = homePlayers[0]\n",
    "homePlayers_Stats.columns = ['_'.join(col).lower() for col in homePlayers_Stats.columns]\n",
    "homeKeeper = homePlayers[1]\n",
    "homeKeeper.columns = ['_'.join(col).lower() for col in homeKeeper.columns]\n",
    "\n",
    "awayPlayers = get_player_stats('Away')\n",
    "awayPlayers_Stats = awayPlayers[0]\n",
    "awayPlayers_Stats.columns = ['_'.join(col).lower() for col in awayPlayers_Stats.columns]\n",
    "awayKeeper = awayPlayers[1]\n",
    "awayKeeper.columns = ['_'.join(col).lower() for col in awayKeeper.columns]\n",
    "\n",
    "# Join the tablea on the rows\n",
    "fullPlayerStats = pd.concat([homePlayers_Stats, awayPlayers_Stats],axis=0)\n",
    "fullKeeperStats = pd.concat([homeKeeper, awayKeeper],axis=0)\n",
    "\n",
    "# Export to cs\n",
    "# homePlayers_Stats.to_csv(r'./Home Players Stats.csv', index=False)\n",
    "# homeKeeper.to_csv(r'./Home Keeper Stats.csv', index=False)\n",
    "# awayPlayers_Stats.to_csv(r'./Away Players Stats.csv', index=False)\n",
    "# awayKeeper.to_csv(r'./Away Keeper Stats.csv', index=False)\n",
    "#fullKeeperStats.to_csv(r'./Keepers Stats.csv', index=False)\n",
    "#fullPlayerStats.to_csv(r'./Players Stats.csv', index=False)\n"
   ]
  },
  {
   "cell_type": "markdown",
   "metadata": {},
   "source": [
    "Goalkeeper Shots Stats"
   ]
  },
  {
   "cell_type": "code",
   "execution_count": 174,
   "metadata": {},
   "outputs": [],
   "source": [
    "home_keeper_name = df_lineup[(df_lineup['player_position'] == 'Goalkeeper') & (df_lineup['bench_status'] == 'Starter') & \n",
    "          (df_lineup['home_away'] == 'home')].reset_index(drop=True)['player_name'][0]\n",
    "away_keeper_name = df_lineup[(df_lineup['player_position'] == 'Goalkeeper') & (df_lineup['bench_status'] == 'Starter') & \n",
    "          (df_lineup['home_away'] == 'away')].reset_index(drop=True)['player_name'][0]"
   ]
  },
  {
   "cell_type": "code",
   "execution_count": 175,
   "metadata": {},
   "outputs": [],
   "source": [
    "def keeper_stats(home_away):\n",
    "    \n",
    "    if home_away == 'Home':\n",
    "        team = awayTeam\n",
    "        keeperName = home_keeper_name #'Unai Simón Mendibil'\n",
    "    elif home_away == 'Away':\n",
    "        team = homeTeam\n",
    "        keeperName = away_keeper_name #'Jordan Pickford'\n",
    "\n",
    "    # Get shots faced\n",
    "    shotsFaced = matchEvents[(matchEvents['type'] == 'Shot') & (matchEvents['team'] == team)].reset_index(drop=True)\n",
    "\n",
    "    # Filter shots columns\n",
    "    shotsFaced = shotsFaced[['match_id','id','minute','period','player','player_id','shot_body_part',\n",
    "        'shot_outcome', 'shot_statsbomb_xg','location_x', 'location_y','shot_end_location_x',\n",
    "        'shot_end_location_y', 'shot_end_location_z','team', 'team_id']]\n",
    "    shotsFaced['home_away'] = home_away\n",
    "    # Crosses Against\n",
    "    crossesAgainst = matchEvents[(matchEvents['pass_cross'] == True) & (matchEvents['team'] == team)].reset_index(drop=True)\n",
    "    crossesAgainst = crossesAgainst[['match_id','id','minute','player','player_id',\n",
    "                                        'location_x', 'location_y','pass_end_location_x',\n",
    "                                          'pass_end_location_y','pass_outcome','goalkeeper_type','team', 'team_id']]\n",
    "    crossesAgainst['home_away'] = home_away\n",
    "    # Keeper Passes\n",
    "    # All Passes - Then sort to passes insie and beyond own third\n",
    "    keeperPasses = matchEvents[(matchEvents['type'] == 'Pass') & (matchEvents['player'] == keeperName)].reset_index(drop=True)\n",
    "    keeperPasses = keeperPasses[['id','match_id','period','minute','player','player_id','position',\n",
    "                'location_x','location_y','pass_recipient','pass_recipient_id',\n",
    "                'pass_end_location_x','pass_end_location_y','pass_type',\n",
    "                'pass_length','pass_outcome','pass_body_part','team']]\n",
    "    keeperPasses['home_away'] = home_away\n",
    "    return shotsFaced, crossesAgainst, keeperPasses\n",
    "\n",
    "\n",
    "# Get home keeper stats\n",
    "home_Keeper = keeper_stats('Home')\n",
    "home_Keeper_shotsFaced = home_Keeper[0]\n",
    "home_crossesAgainst = home_Keeper[1]\n",
    "home_keeperPasses = home_Keeper[2]\n",
    "\n",
    "# Get away keeper stats\n",
    "away_Keeper = keeper_stats('Away')\n",
    "away_Keeper_shotsFaced = away_Keeper[0]\n",
    "away_crossesAgainst = away_Keeper[1]\n",
    "away_keeperPasses = away_Keeper[2]\n",
    "\n",
    "# Join the tablea on the rows\n",
    "shotsFaced = pd.concat([home_Keeper_shotsFaced, away_Keeper_shotsFaced],axis=0)\n",
    "crossesAgainst = pd.concat([home_crossesAgainst, away_crossesAgainst],axis=0)\n",
    "keeperPasses = pd.concat([home_keeperPasses, away_keeperPasses],axis=0)\n",
    "\n",
    "\n",
    "# Export\n",
    "# shotsFaced.to_csv(r'./Keeper Shots Faced.csv', index=False)\n",
    "#crossesAgainst.to_csv(r'./Keeper Crosses Against.csv', index=False)\n",
    "# keeperPasses.to_csv(r'./Keeper Passes.csv', index=False)"
   ]
  },
  {
   "cell_type": "markdown",
   "metadata": {},
   "source": [
    "Shots"
   ]
  },
  {
   "cell_type": "code",
   "execution_count": 15,
   "metadata": {},
   "outputs": [],
   "source": [
    "# Filte columns from the shotevents dataframe\n",
    "shotmapDF = shotEvents[['id','match_id','minute','player','player_id','shot_body_part',\n",
    "        'shot_outcome', 'shot_statsbomb_xg','location_x', 'location_y','shot_end_location_x',\n",
    "        'shot_end_location_y', 'shot_end_location_z','team', 'team_id']].reset_index(drop=True)\n",
    "\n",
    "\n",
    "shotmapDF['home_away'] = shotmapDF.apply(assign_home_away, axis=1)\n",
    "\n",
    "# Export\n",
    "#shotmapDF.to_csv(r'./Teams Shotmap.csv', index=False)"
   ]
  },
  {
   "cell_type": "markdown",
   "metadata": {},
   "source": [
    "Pass Network and Heatmap"
   ]
  },
  {
   "cell_type": "code",
   "execution_count": 16,
   "metadata": {},
   "outputs": [
    {
     "name": "stderr",
     "output_type": "stream",
     "text": [
      "C:\\Users\\Razak\\AppData\\Local\\Temp\\ipykernel_19480\\502787232.py:9: SettingWithCopyWarning: \n",
      "A value is trying to be set on a copy of a slice from a DataFrame.\n",
      "Try using .loc[row_indexer,col_indexer] = value instead\n",
      "\n",
      "See the caveats in the documentation: https://pandas.pydata.org/pandas-docs/stable/user_guide/indexing.html#returning-a-view-versus-a-copy\n",
      "  passNetworkDF['home_away'] = passNetworkDF.apply(assign_home_away, axis=1)\n",
      "C:\\Users\\Razak\\AppData\\Local\\Temp\\ipykernel_19480\\502787232.py:21: SettingWithCopyWarning: \n",
      "A value is trying to be set on a copy of a slice from a DataFrame.\n",
      "Try using .loc[row_indexer,col_indexer] = value instead\n",
      "\n",
      "See the caveats in the documentation: https://pandas.pydata.org/pandas-docs/stable/user_guide/indexing.html#returning-a-view-versus-a-copy\n",
      "  passNetworkDF['pass_success'] = passNetworkDF.apply(passoutcome, axis = 1)\n"
     ]
    }
   ],
   "source": [
    "passEvent = matchEvents[matchEvents['type'] == 'Pass'].reset_index(drop=True)\n",
    "\n",
    "# Filter\n",
    "passNetworkDF = passEvent[['id','match_id','period','minute','player','player_id','position','period',\n",
    "                'location_x','location_y','pass_recipient','pass_recipient_id',\n",
    "                'pass_end_location_x','pass_end_location_y','pass_type','pass_cross','shot_key_pass_id',\n",
    "                'pass_height','pass_length','pass_outcome','pass_goal_assist','pass_shot_assist','team']]\n",
    "\n",
    "passNetworkDF['home_away'] = passNetworkDF.apply(assign_home_away, axis=1)\n",
    "\n",
    "def passoutcome(row):\n",
    "    if pd.isna(row['pass_outcome']):\n",
    "        return 'complete'\n",
    "    elif row['pass_outcome'] == 'Incomplete':\n",
    "        return 'incomplete'\n",
    "    else:\n",
    "        return None\n",
    "    \n",
    "\n",
    "# Applky the function and create a new column\n",
    "passNetworkDF['pass_success'] = passNetworkDF.apply(passoutcome, axis = 1)\n"
   ]
  },
  {
   "cell_type": "code",
   "execution_count": 17,
   "metadata": {},
   "outputs": [],
   "source": [
    "# Completed/Succesful Passes\n",
    "completePass = passNetworkDF[passNetworkDF['pass_outcome'].isna()].reset_index(drop=True)\n",
    "\n",
    "avgLocation = completePass.groupby(['player']).agg({'location_x': ['mean'], 'location_y':['mean','count']})\n",
    "avgLocation.columns = ['location_x','location_y','count']\n",
    "\n",
    "\n",
    "passBetween = completePass.groupby(['player','pass_recipient','team', 'home_away']).id.count().reset_index()\n",
    "passBetween.rename(columns={'id':'pass_count'}, inplace=True)\n",
    "\n",
    "passNetwork = passBetween.merge(avgLocation, left_on = ['player'], right_index=True)\n",
    "passNetwork = passNetwork.merge(avgLocation, left_on= ['pass_recipient'], right_index=True, suffixes=['','_end'])\n",
    "\n",
    "passNetwork = passNetwork[passNetwork['pass_count'] > 3]\n",
    "\n",
    "# Export\n",
    "#passBetween.to_csv(r'./Successful Passes Between.csv',  index=False)\n",
    "#passNetwork.to_csv(r'./GamePassNetwork.csv', index=False)\n"
   ]
  },
  {
   "cell_type": "markdown",
   "metadata": {},
   "source": [
    "Incomplete Passes"
   ]
  },
  {
   "cell_type": "code",
   "execution_count": 18,
   "metadata": {},
   "outputs": [],
   "source": [
    "incompletePass = passNetworkDF[passNetworkDF['pass_success'] == 'incomplete'].reset_index(drop=True)\n",
    "\n",
    "# Export\n",
    "#incompletePass.to_csv(r'./Incomplete Passes.csv', index=False)"
   ]
  },
  {
   "cell_type": "markdown",
   "metadata": {},
   "source": [
    "Recoveries"
   ]
  },
  {
   "cell_type": "code",
   "execution_count": 19,
   "metadata": {},
   "outputs": [],
   "source": [
    "recoveryEvents = ['Duel','Interception','Ball Recovery']\n",
    "recoveries = matchEvents[matchEvents['type'].isin(recoveryEvents)].reset_index(drop=True)\n",
    "\n",
    "def ballrecovery(row):\n",
    "    if row['ball_recovery_recovery_failure'] == True:\n",
    "        return 'Failed'\n",
    "    else: return 'Ball Recovered'\n",
    "\n",
    "recoveries['ball_recovery_outcome'] = recoveries.apply(ballrecovery, axis=1)\n",
    "recoveries['home_away'] = recoveries.apply(assign_home_away, axis=1)\n",
    "\n",
    "recoveryDF = recoveries[['id','match_id','period','minute','player','player_id','position','period','type','home_away',\n",
    "            'location_x','location_y','team','ball_recovery_outcome','duel_outcome','interception_outcome']].reset_index(drop=True)\n",
    "\n",
    "# Export\n",
    "#recoveryDF.to_csv(r'./Recoveris.csv', index=False)"
   ]
  },
  {
   "cell_type": "markdown",
   "metadata": {},
   "source": [
    "Dribbles"
   ]
  },
  {
   "cell_type": "code",
   "execution_count": 20,
   "metadata": {},
   "outputs": [],
   "source": [
    "dribbles = matchEvents[matchEvents['type'] == 'Dribble'].reset_index(drop=True)\n",
    "\n",
    "dribbles['home_away'] = dribbles.apply(assign_home_away, axis=1)\n",
    "\n",
    "# Filter colns\n",
    "dribblesDF = dribbles[['id','match_id','period','minute','player','player_id','position','period','type','home_away',\n",
    "            'location_x','location_y','team','dribble_outcome']].reset_index(drop=True)\n",
    "\n",
    "# Export\n",
    "#dribblesDF.to_csv(r'./Dribbles.csv', index=False)"
   ]
  },
  {
   "cell_type": "markdown",
   "metadata": {},
   "source": [
    "Key Passes"
   ]
  },
  {
   "cell_type": "code",
   "execution_count": 78,
   "metadata": {},
   "outputs": [
    {
     "name": "stderr",
     "output_type": "stream",
     "text": [
      "C:\\Users\\Razak\\AppData\\Local\\Temp\\ipykernel_19480\\1762020881.py:25: FutureWarning: The behavior of DataFrame concatenation with empty or all-NA entries is deprecated. In a future version, this will no longer exclude empty or all-NA columns when determining the result dtypes. To retain the old behavior, exclude the relevant entries before the concat operation.\n",
      "  idEvents = pd.concat([idEvents, filterEvent], ignore_index=True)\n"
     ]
    }
   ],
   "source": [
    "keypass = matchEvents[matchEvents['shot_key_pass_id'].isna() == False].reset_index(drop=True)\n",
    "\n",
    "keypass['home_away'] = keypass.apply(assign_home_away, axis=1)\n",
    "\n",
    "# Filter Data\n",
    "keyPassDF = keypass[['id','match_id','period','minute','player','player_id','position','period','home_away',\n",
    "                'location_x','location_y','shot_key_pass_id','team']]\n",
    "\n",
    "# a function that takes the 'shot_key_pass_id' from the keypassdf\n",
    "keypassids = []\n",
    "for i in range(len(keyPassDF)):\n",
    "    keypassids.append(keyPassDF['shot_key_pass_id'][i])\n",
    "\n",
    "# passes the id into the match events dataframe\n",
    "idEvents = pd.DataFrame(columns=['id','location_x','location_y'])\n",
    "\n",
    "for i in keypassids:\n",
    "\n",
    "    # Pass ids into matchevent\n",
    "    eventData = matchEvents[matchEvents['id'] == i]\n",
    "\n",
    "    # Filter to get the location_x and location_y\n",
    "    filterEvent = eventData[['id','location_x','location_y']].reset_index(drop=True)\n",
    "\n",
    "    idEvents = pd.concat([idEvents, filterEvent], ignore_index=True)\n",
    "\n",
    "# gets the location_x and location_y then replace it with the pass_end_location_x and y in the key pass df\n",
    "joinedEvents = keyPassDF.merge(idEvents, left_on = ['shot_key_pass_id'], right_on=['id'], suffixes=['','_end'])\n",
    "\n",
    "\n",
    "# Export\n",
    "#joinedEvents.to_csv(r'./Key Passes.csv', index=False)"
   ]
  },
  {
   "cell_type": "markdown",
   "metadata": {},
   "source": [
    "Crosses"
   ]
  },
  {
   "cell_type": "code",
   "execution_count": 85,
   "metadata": {},
   "outputs": [],
   "source": [
    "# Crosses Against\n",
    "crosses = matchEvents[matchEvents['pass_cross'] == True].reset_index(drop=True)\n",
    "\n",
    "crosses['home_away'] = crosses.apply(assign_home_away, axis=1)\n",
    "\n",
    "crossesDF = crosses[['id','minute','player','player_id','location_x', 'location_y','pass_end_location_x',\n",
    "                    'pass_end_location_y','pass_outcome','period','team', 'home_away']]\n",
    "#crossesDF.to_csv(r'./Crosses.csv', index=False)"
   ]
  },
  {
   "cell_type": "markdown",
   "metadata": {},
   "source": [
    "Fouls"
   ]
  },
  {
   "cell_type": "code",
   "execution_count": 90,
   "metadata": {},
   "outputs": [],
   "source": [
    "fouls = matchEvents[matchEvents['type'] == 'Foul Committed'].reset_index(drop=True)\n",
    "\n",
    "fouls['home_away'] = fouls.apply(assign_home_away, axis=1)\n",
    "\n",
    "foulsDF = fouls[['id','minute','player','player_id','location_x', 'location_y',\n",
    "                 'period','team', 'home_away']]\n",
    "\n",
    "# Export\n",
    "#foulsDF.to_csv(r'./Fouls.csv', index=False)"
   ]
  }
 ],
 "metadata": {
  "kernelspec": {
   "display_name": "Python 3",
   "language": "python",
   "name": "python3"
  },
  "language_info": {
   "codemirror_mode": {
    "name": "ipython",
    "version": 3
   },
   "file_extension": ".py",
   "mimetype": "text/x-python",
   "name": "python",
   "nbconvert_exporter": "python",
   "pygments_lexer": "ipython3",
   "version": "3.12.4"
  }
 },
 "nbformat": 4,
 "nbformat_minor": 2
}
